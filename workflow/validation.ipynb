{
 "cells": [
  {
   "cell_type": "code",
   "execution_count": 36,
   "metadata": {},
   "outputs": [
    {
     "name": "stdout",
     "output_type": "stream",
     "text": [
      "initseek:<Response [200]>\n",
      "scoaseek:<Response [200]>\n",
      "records size:9235\n",
      "1000\n",
      "2000\n",
      "3000\n",
      "4000\n",
      "5000\n",
      "6000\n",
      "7000\n",
      "8000\n",
      "9000\n",
      "9235\n",
      "Validation:{'errCode': 0, 'msg': 'SUCCESS', 'data': 12662.076951536956}\n"
     ]
    }
   ],
   "source": [
    "\"\"\"\n",
    "Description: Run the server with default scoa parameters\n",
    "\n",
    "Using:\n",
    "Python3\n",
    "\"\"\"\n",
    "\n",
    "import requests\n",
    "req_url = \"http://localhost:2019/\"\n",
    "\n",
    "res_data = dict()\n",
    "initseek = requests.get(url=req_url + \"scoa/initseek\", params=res_data)\n",
    "print(\"InitSeek:{}\".format(initseek.json()))\n",
    "\n",
    "scoaseek = requests.get(url=req_url + \"scoa/scoaseek\", params=res_data)\n",
    "# validation：rainbow-server/src/main/resources/default/ordered_schema.txt.scoa\n",
    "# see the scoa results to judge 'equality'\n",
    "print(\"ScoaSeek:{}\".format(scoaseek.json()))\n",
    "\n",
    "res = requests.get(url=req_url + \"scoa/record\", params=res_data)\n",
    "\n",
    "json = res.json()\n",
    "if json[\"errCode\"] == 0:\n",
    "    data = json[\"data\"]\n",
    "    print(\"Records size:{}\".format(len(data)))\n",
    "    count = 0;\n",
    "    for point in data:\n",
    "        cx = point[\"x\"]\n",
    "        cy = point[\"y\"]\n",
    "        \n",
    "        res_data = dict(\n",
    "            cx=cx,\n",
    "            cy=cy\n",
    "        )\n",
    "        cost = requests.get(url=req_url + \"tune/seek\", params=res_data)\n",
    "        count += 1\n",
    "        if count % 1000 == 0:\n",
    "            print(count)\n",
    "        if count == len(data):\n",
    "            print(count)\n",
    "\n",
    "    print(\"Validation:{}\".format(cost.json()))\n",
    "else:\n",
    "    print(\"Error\")\n"
   ]
  }
 ],
 "metadata": {
  "kernelspec": {
   "display_name": "Python 3",
   "language": "python",
   "name": "python3"
  },
  "language_info": {
   "codemirror_mode": {
    "name": "ipython",
    "version": 3
   },
   "file_extension": ".py",
   "mimetype": "text/x-python",
   "name": "python",
   "nbconvert_exporter": "python",
   "pygments_lexer": "ipython3",
   "version": "3.7.3"
  }
 },
 "nbformat": 4,
 "nbformat_minor": 2
}
